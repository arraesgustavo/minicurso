{
  "cells": [
    {
      "cell_type": "code",
      "execution_count": null,
      "metadata": {
        "id": "kPVcFf8D9Pkl"
      },
      "outputs": [],
      "source": [
        "!pip install qiskit qiskit-aer qiskit[visualization] qiskit-ibm-provider qiskit-ibm-runtime ipykernel"
      ]
    },
    {
      "cell_type": "markdown",
      "metadata": {
        "id": "jJ6KLWG49Pko"
      },
      "source": [
        "#### Vetores e matrizes em Python\n",
        "\n",
        "O Qiskit utiliza a linguagem de programação Python, então, antes de discutirmos o Qiskit especificamente, pode ser útil falar brevemente sobre cálculos com matrizes e vetores em Python. Em Python, cálculos com matrizes e vetores podem ser realizados usando a classe `array` da biblioteca NumPy (que inclui muitos outros componentes para computação numérica).\n",
        "\n",
        "Aqui está um exemplo de uma célula de código que define dois vetores, `ket0` e `ket1`, correspondentes aos vetores de estado de qubit ∣0⟩ e ∣1⟩, e exibe sua média."
      ]
    },
    {
      "cell_type": "code",
      "execution_count": null,
      "metadata": {
        "id": "OxNg-yCH9Pkq"
      },
      "outputs": [],
      "source": [
        "from IPython.display import display\n",
        "from numpy import array, sqrt\n",
        "\n",
        "ket0 = array([1, 0])\n",
        "ket1 = array([0, 1])\n",
        "\n",
        "display(ket0 / 2 + ket1 / 2)"
      ]
    },
    {
      "cell_type": "markdown",
      "metadata": {
        "id": "B7fG7dw69Pkr"
      },
      "source": [
        "#### Estados, medidas e operações\n",
        "\n",
        "O Qiskit inclui várias classes que permitem que estados, medições e operações sejam facilmente criados e manipulados — portanto, não é necessário começar do zero e programar tudo o que é necessário para simular estados quânticos, medições e operações em Python. Alguns exemplos para começar estão incluídos abaixo.\n",
        "\n",
        "Definindo e exibindo vetores de estado\n",
        "\n",
        "A classe `Statevector` do Qiskit fornece funcionalidades para definir e manipular vetores de estado quânticos. A célula de código a seguir importa a classe `Statevector` e define alguns vetores utilizando-a. (Observe que precisamos da função `sqrt` da biblioteca NumPy para calcular as raízes quadradas do vetor `u`.)\n",
        "\n",
        "A classe `Statevector` também inclui o método `is_valid`, que verifica se um determinado vetor é um vetor de estado quântico válido (ou seja, se tem norma Euclidiana igual a 1):"
      ]
    },
    {
      "cell_type": "code",
      "execution_count": null,
      "metadata": {
        "id": "Q5cbV61t9Pks"
      },
      "outputs": [],
      "source": [
        "from qiskit.quantum_info import Statevector\n",
        "from numpy import sqrt\n",
        "from IPython.display import display\n",
        "\n",
        "u = Statevector([1 / sqrt(2), 1 / sqrt(2)])\n",
        "v = Statevector([(1 + 2.0j) / 3, -2 / 3])\n",
        "w = Statevector([1 / 3, 2 / 3])\n",
        "\n",
        "display(u.draw(\"latex\"))\n",
        "display(v.draw(\"text\"))\n",
        "\n",
        "display(u.is_valid())\n",
        "display(w.is_valid())"
      ]
    },
    {
      "cell_type": "markdown",
      "metadata": {
        "id": "owbJC16P9Pkt"
      },
      "source": [
        "#### Visualizando Estados Quânticos na Esfera de Bloch com Qiskit\n",
        "\n",
        "Estaremos visualizando os estados anteriores na Esfera de Bloch. Importante destacar que não estamos descrevendo circuitos nem executando em hardware real — estamos apenas manipulando matematicamente vetores de estado usando a classe `Statevector` do Qiskit, o que nos permite analisar diretamente a estrutura dos estados quânticos. Para isso, utilizamos a função `state_to_bloch`, que converte um vetor de estado em um vetor 3D real na esfera de Bloch. Essa conversão é feita através do cálculo dos valores esperados dos operadores de Pauli \\( X \\), \\( Y \\) e \\( Z \\), com a função `expectation_value(Pauli('X'))` retornando, por exemplo, \\(\\langle \\psi | X | \\psi \\rangle\\), ou seja, o valor médio da medição no eixo X. Esses valores, extraídos das componentes reais das expectativas, fornecem diretamente as coordenadas cartesianas \\([x, y, z]\\) da esfera. Essa abordagem é extremamente útil para visualizações rápidas e análises teóricas, pois ignora ruídos, decoerência e outras limitações dos simuladores e dispositivos quânticos reais.\n"
      ]
    },
    {
      "cell_type": "code",
      "execution_count": null,
      "metadata": {
        "id": "B_1HIavw9Pkt"
      },
      "outputs": [],
      "source": [
        "%matplotlib inline\n",
        "import numpy as np\n",
        "from qiskit.quantum_info import Pauli, Statevector\n",
        "from qiskit.visualization import plot_bloch_vector\n",
        "\n",
        "def state_to_bloch(state):\n",
        "    x = np.real(state.expectation_value(Pauli('X')))\n",
        "    y = np.real(state.expectation_value(Pauli('Y')))\n",
        "    z = np.real(state.expectation_value(Pauli('Z')))\n",
        "    return [x, y, z]\n",
        "\n",
        "estados = [('u', u), ('v', v)]\n",
        "\n",
        "for label, state in estados:\n",
        "    bloch_vector = state_to_bloch(state)\n",
        "    display(plot_bloch_vector(bloch_vector, title=f\"Estado {label}\"))"
      ]
    },
    {
      "cell_type": "markdown",
      "metadata": {
        "id": "tq4Fqjdl9Pku"
      },
      "source": [
        "#### Exercício 01:\n",
        "\n",
        "Defina mais vetores de estado, verifique se são válidos, visualize eles e plote a esfera de bloch para eles. (Apenas integre o estado ao vetor de estados e rode o loop novamente)"
      ]
    },
    {
      "cell_type": "code",
      "execution_count": null,
      "metadata": {
        "id": "yw3ouC1u9Pku",
        "outputId": "0c8cb357-f286-43ed-a902-a1a64f4f54a8"
      },
      "outputs": [
        {
          "ename": "",
          "evalue": "",
          "output_type": "error",
          "traceback": [
            "\u001b[1;31mA execução de células com 'qiskit-env' requer o pacote ipykernel.\n",
            "\u001b[1;31mRun the following command to install 'ipykernel' into the Python environment. \n",
            "\u001b[1;31mCommand: '/home/aluno/Downloads/curso/qiskit-env/bin/python -m pip install ipykernel -U --force-reinstall'"
          ]
        }
      ],
      "source": []
    },
    {
      "cell_type": "markdown",
      "metadata": {
        "id": "Y7TdZpUr9Pkv"
      },
      "source": [
        "#### Operações Unitárias matematicamente\n",
        "\n",
        "Operações unitárias podem ser definidas e realizadas em vetores de estado no Qiskit utilizando a classe `Operator`, como no exemplo a seguir. Assim, nós mesmos podemos descrever o operador\n"
      ]
    },
    {
      "cell_type": "code",
      "execution_count": null,
      "metadata": {
        "id": "nmNuK4xM9Pkv"
      },
      "outputs": [],
      "source": [
        "from qiskit.quantum_info import Operator\n",
        "from qiskit.circuit.library import CXGate, CCXGate, SwapGate\n",
        "\n",
        "X = Operator([[0, 1], [1, 0]])\n",
        "Y = Operator([[0, -1.0j], [1.0j, 0]])\n",
        "Z = Operator([[1, 0], [0, -1]])\n",
        "H = Operator([[1 / sqrt(2), 1 / sqrt(2)], [1 / sqrt(2), -1 / sqrt(2)]])\n",
        "\n",
        "v = Statevector([1, 0])\n",
        "v = v.evolve(H)\n",
        "v.draw(\"text\")"
      ]
    },
    {
      "cell_type": "markdown",
      "metadata": {
        "id": "JPWfUYfy9Pkw"
      },
      "source": [
        "#### Múltiplos Estados e produto tensorial\n",
        "\n",
        "A classe `Statevector` possui um método chamado `tensor`, que retorna o produto tensorial daquele `Statevector` com outro, fornecido como argumento. O argumento é interpretado como o fator tensorial à direita.\n",
        "\n",
        "Por exemplo, abaixo criamos dois vetores de estado representando ∣0⟩ e ∣1⟩, e usamos o método `tensor` para criar um novo vetor, ∣ψ⟩ = ∣0⟩ ⊗ ∣1⟩. Observe que aqui estamos utilizando o método `from_label` para definir os estados ∣0⟩ e ∣1⟩, em vez de defini-los manualmente."
      ]
    },
    {
      "cell_type": "code",
      "execution_count": null,
      "metadata": {
        "id": "JaRLCa8y9Pkw"
      },
      "outputs": [],
      "source": [
        "zero = Statevector.from_label(\"0\")\n",
        "one = Statevector.from_label(\"1\")\n",
        "psi = zero.tensor(one)\n",
        "display(psi.draw(\"latex\"))"
      ]
    },
    {
      "cell_type": "markdown",
      "metadata": {
        "id": "6OmQdwKN9Pkx"
      },
      "source": [
        "#### Execício 02:\n",
        "\n",
        " Defina os dois estados abaixo e faça o produto tensorial deles depois observe e veja se está correto:\n",
        "\n",
        "![image.png](attachment:image.png)"
      ]
    },
    {
      "cell_type": "code",
      "execution_count": null,
      "metadata": {
        "id": "HxBnArrC9Pkx"
      },
      "outputs": [],
      "source": []
    },
    {
      "cell_type": "markdown",
      "metadata": {
        "id": "0AW_X7WC9Pkx"
      },
      "source": [
        "#### Principais portas lógicas\n",
        "\n",
        "A classe `Operator` também possui um método `tensor` (assim como um método `from_label`), como veremos nos exemplos a seguir."
      ]
    },
    {
      "cell_type": "code",
      "execution_count": null,
      "metadata": {
        "id": "PNAAxFiW9Pkx"
      },
      "outputs": [],
      "source": [
        "H = Operator.from_label(\"H\")\n",
        "I = Operator.from_label(\"I\")\n",
        "X = Operator.from_label(\"X\")\n",
        "\n",
        "CNOT = Operator(CXGate())\n",
        "TOFFOLI = Operator(CCXGate())\n",
        "SWAP = Operator(SwapGate())\n",
        "\n",
        "display(H.draw(\"latex\"))\n",
        "display(I.draw(\"latex\"))\n",
        "display(X.draw(\"latex\"))\n",
        "\n",
        "display(H.tensor(I).draw(\"latex\"))\n",
        "display(H.tensor(I).tensor(X).draw(\"latex\"))\n",
        "\n",
        "print(\"CNOT: \")\n",
        "display(CNOT.draw(\"latex\"))\n",
        "print(\"TOFFOLI: \")\n",
        "display(TOFFOLI.draw(\"latex\"))\n",
        "print(\"SWAP: \")\n",
        "display(SWAP.draw(\"latex\"))"
      ]
    },
    {
      "cell_type": "markdown",
      "metadata": {
        "id": "PjEYHVP_9Pkx"
      },
      "source": [
        "#### Simulando medições usando Statevector\n",
        "A seguir, veremos uma forma de simular medições de estados quânticos no Qiskit, utilizando o método measure da classe Statevector.\n",
        "\n",
        "Primeiro, criamos um vetor de estado de qubit v e, em seguida, o exibimos.\n",
        "\n",
        "Em seguida, ao executar o método measure, é simulada uma medição na base padrão. Ele retorna o resultado dessa medição, além do novo estado quântico do nosso sistema após a medição.\n",
        "\n",
        "A classe Statevector também possui o método sample_counts, que permite simular qualquer número de medições no sistema. Por exemplo, a célula de código a seguir mostra o resultado de medir o vetor v 1000 vezes, o que (com alta probabilidade) resulta no resultado 0 aproximadamente 5 em cada 9 vezes (ou cerca de 556 das 1000 tentativas) e o resultado 1 aproximadamente 4 em cada 9 vezes (ou cerca de 444 das 1000 tentativas). A célula também demonstra a função plot_histogram para visualizar os resultados."
      ]
    },
    {
      "cell_type": "code",
      "execution_count": null,
      "metadata": {
        "id": "MoKZCeky9Pkx"
      },
      "outputs": [],
      "source": [
        "from qiskit.quantum_info import Statevector\n",
        "from qiskit.visualization import plot_histogram\n",
        "\n",
        "v = Statevector([(1 + 2.0j) / 3, -2 / 3])\n",
        "\n",
        "display(v.draw(\"latex\"))\n",
        "\n",
        "display(v.measure())\n",
        "\n",
        "statistics = v.sample_counts(1000)\n",
        "\n",
        "display(statistics)\n",
        "\n",
        "plot_histogram(statistics)"
      ]
    },
    {
      "cell_type": "markdown",
      "metadata": {
        "id": "7Nu4SsPt9Pky"
      },
      "source": [
        "Na lição anterior, usamos o método measure para simular uma medição de um vetor de estado quântico. Esse método retorna dois itens: o resultado simulado da medição e o novo Statevector resultante dessa medição.\n",
        "\n",
        "Por padrão, measure mede todos os qubits no vetor de estado. Alternativamente, podemos fornecer uma lista de inteiros como argumento, o que faz com que apenas os qubits com esses índices sejam medidos. Para demonstrar isso, o código abaixo cria o estado\n",
        "\n",
        "∣w⟩ = (∣001⟩ + ∣010⟩ + ∣100⟩) / √3\n",
        "\n",
        "e mede o qubit de número 0, que é o qubit mais à direita."
      ]
    },
    {
      "cell_type": "code",
      "execution_count": null,
      "metadata": {
        "id": "0tVkv2Ed9Pky"
      },
      "outputs": [],
      "source": [
        "w = Statevector([0, 1, 1, 0, 1, 0, 0, 0] / sqrt(3))\n",
        "display(w.draw(\"latex\"))\n",
        "\n",
        "result, state = w.measure([0])\n",
        "print(f\"Measured: {result}\\nState after measurement:\")\n",
        "display(state.draw(\"latex\"))\n",
        "\n",
        "result, state = w.measure([0,1])\n",
        "print(f\"Measured: {result}\\nState after measurement:\")\n",
        "display(state.draw(\"latex\"))"
      ]
    },
    {
      "cell_type": "markdown",
      "metadata": {
        "id": "wnGKlec19Pky"
      },
      "source": [
        "#### Construindo circuitos reais com Qiskit\n",
        "\n",
        "Agora, vamos descrever essas mesmas operações como circuitos quânticos, que é como elas seriam realmente programadas para execução em um simulador quântico ou computador quântico real.\n",
        "\n",
        "Você começa com QuantumCircuit(n), criando n qubits. Em vez de definir vetores diretamente, você configura estados através de portas quânticas."
      ]
    },
    {
      "cell_type": "code",
      "execution_count": null,
      "metadata": {
        "id": "rNqHVTnV9Pkz"
      },
      "outputs": [],
      "source": [
        "import numpy as np\n",
        "from qiskit_aer import Aer\n",
        "from qiskit import QuantumCircuit\n",
        "from qiskit.quantum_info import Statevector\n",
        "from qiskit.visualization import plot_bloch_multivector\n",
        "\n",
        "qc = QuantumCircuit(1)\n",
        "qc.initialize([1/np.sqrt(2), 1/np.sqrt(2)], 0)\n",
        "display(qc.draw('text'))"
      ]
    },
    {
      "cell_type": "markdown",
      "metadata": {
        "id": "-6veF0SN9Pkz"
      },
      "source": [
        "##### Operações Unitárias\n",
        "\n",
        "Cada Operator que você criou (X, Y, Z, H...) corresponde a uma porta de circuito real.\n",
        "\n",
        "Você também pode usar qc.unitary(Operator(...), qubit_idx) para inserir gates personalizados."
      ]
    },
    {
      "cell_type": "code",
      "execution_count": null,
      "metadata": {
        "id": "FU7ojjsk9Pkz"
      },
      "outputs": [],
      "source": [
        "qc.h(0)  # Hadamard\n",
        "qc.x(0)  # Pauli-X\n",
        "qc.draw('text')"
      ]
    },
    {
      "cell_type": "markdown",
      "metadata": {
        "id": "WDyf3ysB9Pkz"
      },
      "source": [
        "##### Múltiplos Qubits\n",
        "\n",
        "Ao invés de usar .tensor(), você define vários qubits no circuito e aplica operações em cada um:"
      ]
    },
    {
      "cell_type": "code",
      "execution_count": null,
      "metadata": {
        "id": "0Oxo6MIw9Pk0"
      },
      "outputs": [],
      "source": [
        "qc2 = QuantumCircuit(2)\n",
        "qc2.x(0)\n",
        "qc2.swap(0, 1)\n",
        "qc2.draw('text')"
      ]
    },
    {
      "cell_type": "markdown",
      "metadata": {
        "id": "y6dvIFzE9Pk0"
      },
      "source": [
        "##### Medições\n",
        "\n",
        "Use qc.measure() para transformar os estados em resultados clássicos — como na vida real:"
      ]
    },
    {
      "cell_type": "code",
      "execution_count": null,
      "metadata": {
        "id": "3dBLUdpm9Pk0"
      },
      "outputs": [],
      "source": [
        "qc.measure_all()\n",
        "\n",
        "simulator = Aer.get_backend('qasm_simulator')\n",
        "job = simulator.run(qc, shots=1000)\n",
        "result = job.result()\n",
        "counts = result.get_counts()\n",
        "plot_histogram(counts)"
      ]
    },
    {
      "cell_type": "markdown",
      "metadata": {
        "id": "V4VcGaGe9Pk0"
      },
      "source": [
        "#### Visualizações (com base em circuitos):\n",
        "\n",
        "Você pode extrair o vetor de estado do circuito e exibir na Esfera de Bloch com:"
      ]
    },
    {
      "cell_type": "code",
      "execution_count": null,
      "metadata": {
        "id": "UcLl7BUk9Pk0"
      },
      "outputs": [],
      "source": [
        "qc = QuantumCircuit(1)\n",
        "qc.h(0)\n",
        "\n",
        "state = Statevector.from_instruction(qc)\n",
        "plot_bloch_multivector(state)"
      ]
    },
    {
      "cell_type": "markdown",
      "metadata": {
        "id": "WPvAUIqJ9Pk1"
      },
      "source": [
        "##### Exercício 03\n",
        "\n",
        "Faça um circuito com dois qubits entrelaçados e verifique seu entrelaçamento e faça medições no backend\n"
      ]
    },
    {
      "cell_type": "code",
      "execution_count": null,
      "metadata": {
        "id": "BPnsoI1U9Pk1",
        "outputId": "56eeb721-7270-4d68-fa71-750c3b57f7dc"
      },
      "outputs": [
        {
          "ename": "",
          "evalue": "",
          "output_type": "error",
          "traceback": [
            "\u001b[1;31mA execução de células com 'qiskit-env' requer o pacote ipykernel.\n",
            "\u001b[1;31mRun the following command to install 'ipykernel' into the Python environment. \n",
            "\u001b[1;31mCommand: '/home/aluno/Downloads/curso/qiskit-env/bin/python -m pip install ipykernel -U --force-reinstall'"
          ]
        }
      ],
      "source": []
    },
    {
      "cell_type": "markdown",
      "metadata": {
        "id": "XTOlOeeq9Pk1"
      },
      "source": [
        "##### Exercício 04\n",
        "\n",
        "Faça operações flip de fase e estado em um circuito e visualize na esfera de bloch e compare com estados básicos"
      ]
    },
    {
      "cell_type": "code",
      "execution_count": null,
      "metadata": {
        "id": "QPBJe2kX9Pk1",
        "outputId": "20f5d2d0-2639-4eb0-bdcf-8fa73ff01f65"
      },
      "outputs": [
        {
          "ename": "",
          "evalue": "",
          "output_type": "error",
          "traceback": [
            "\u001b[1;31mA execução de células com 'qiskit-env' requer o pacote ipykernel.\n",
            "\u001b[1;31mRun the following command to install 'ipykernel' into the Python environment. \n",
            "\u001b[1;31mCommand: '/home/aluno/Downloads/curso/qiskit-env/bin/python -m pip install ipykernel -U --force-reinstall'"
          ]
        }
      ],
      "source": []
    }
  ],
  "metadata": {
    "kernelspec": {
      "display_name": "qiskit-env",
      "language": "python",
      "name": "python3"
    },
    "language_info": {
      "codemirror_mode": {
        "name": "ipython",
        "version": 3
      },
      "file_extension": ".py",
      "mimetype": "text/x-python",
      "name": "python",
      "nbconvert_exporter": "python",
      "pygments_lexer": "ipython3",
      "version": "3.10.13"
    },
    "colab": {
      "provenance": []
    }
  },
  "nbformat": 4,
  "nbformat_minor": 0
}