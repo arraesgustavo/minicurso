{
  "nbformat": 4,
  "nbformat_minor": 0,
  "metadata": {
    "colab": {
      "provenance": []
    },
    "kernelspec": {
      "name": "python3",
      "display_name": "Python 3"
    },
    "language_info": {
      "name": "python"
    }
  },
  "cells": [
    {
      "cell_type": "code",
      "execution_count": null,
      "metadata": {
        "id": "B7qP4SyRLw3D"
      },
      "outputs": [],
      "source": [
        "!pip install qiskit-ibm-runtime"
      ]
    },
    {
      "cell_type": "code",
      "source": [
        "from qiskit import QuantumCircuit\n",
        "from qiskit_ibm_runtime import QiskitRuntimeService, SamplerV2 as Sampler\n",
        "from qiskit.transpiler.preset_passmanagers import generate_preset_pass_manager\n",
        "\n",
        "service = QiskitRuntimeService(channel=\"ibm_quantum\", token=\"0cf0446d83612e7358ddc9acd1d40047cdaf4687885a444fbb891a1936222336113c60a2f5b7ddb085a432fd6c4a9bca7b3ffcc477eab2439265db7b8e5ce752\")\n"
      ],
      "metadata": {
        "id": "Am4olCybMA9O"
      },
      "execution_count": null,
      "outputs": []
    },
    {
      "cell_type": "code",
      "source": [
        "print(\"QPUS disponíveis:\")\n",
        "backends = service.backends(simulator=False, operational=True)\n",
        "for i, backend in enumerate(backends):\n",
        "    print(f\"{i}: {backend.name} - Qubits: {backend.num_qubits}, Jobs na fila: {backend.status().pending_jobs}\")"
      ],
      "metadata": {
        "id": "FJsIKNdVNwda"
      },
      "execution_count": null,
      "outputs": []
    },
    {
      "cell_type": "code",
      "source": [
        "backend = backends[0]  # <-- Troque o índice para escolher o computador que você quiser :)"
      ],
      "metadata": {
        "id": "d_SEdO3fN1Sl"
      },
      "execution_count": null,
      "outputs": []
    },
    {
      "cell_type": "code",
      "source": [
        "qc = QuantumCircuit(2)\n",
        "# Monte aqui seu circuito :)\n",
        "qc.measure_all()\n",
        "\n",
        "print(\"\\nCircuito:\")\n",
        "print(qc.draw(output=\"text\"))"
      ],
      "metadata": {
        "id": "7z0_LmpZN8y1"
      },
      "execution_count": null,
      "outputs": []
    },
    {
      "cell_type": "code",
      "source": [
        "pm = generate_preset_pass_manager(backend=backend, optimization_level=1)\n",
        "isa_circuit = pm.run(qc)\n",
        "\n",
        "sampler = Sampler(mode=backend)\n",
        "sampler.options.default_shots = 1024\n",
        "job = sampler.run([isa_circuit])\n",
        "\n",
        "print(f\"\\nJob ID: {job.job_id()}\")\n",
        "pub_result = job.result()[0]\n",
        "print(f\"Contagens: {pub_result.data.meas.get_counts()}\")"
      ],
      "metadata": {
        "id": "YEtWwBw2OGsV"
      },
      "execution_count": null,
      "outputs": []
    }
  ]
}